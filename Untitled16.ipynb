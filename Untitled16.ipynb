{
  "nbformat": 4,
  "nbformat_minor": 0,
  "metadata": {
    "colab": {
      "provenance": []
    },
    "kernelspec": {
      "name": "python3",
      "display_name": "Python 3"
    },
    "language_info": {
      "name": "python"
    }
  },
  "cells": [
    {
      "cell_type": "code",
      "execution_count": 2,
      "metadata": {
        "colab": {
          "base_uri": "https://localhost:8080/"
        },
        "id": "HmNpTs71gBfx",
        "outputId": "84f5f239-0ddb-4be4-f4bb-bdd59f17597e"
      },
      "outputs": [
        {
          "output_type": "stream",
          "name": "stdout",
          "text": [
            "🔹 Generated Text:\n",
            "improve automatically through experience. It is seen as training data, known as a subset of computer algorithms build a subset of artificial intelligence. Machine learning is the study of computer algorithms that improve automatically through experience. It is seen as training\n"
          ]
        }
      ],
      "source": [
        "# Step 1: Import Required Libraries\n",
        "import random\n",
        "from collections import defaultdict\n",
        "\n",
        "# Step 2: Sample Input Text (You can replace this with any large text)\n",
        "text = \"\"\"\n",
        "Machine learning is the study of computer algorithms that improve automatically through experience.\n",
        "It is seen as a subset of artificial intelligence.\n",
        "Machine learning algorithms build a model based on sample data, known as training data,\n",
        "in order to make predictions or decisions without being explicitly programmed to do so.\n",
        "\"\"\"\n",
        "\n",
        "# Step 3: Build the Markov Chain Model\n",
        "def build_markov_chain(text, n=1):\n",
        "    words = text.split()\n",
        "    markov_chain = defaultdict(list)\n",
        "\n",
        "    for i in range(len(words)-n):\n",
        "        key = tuple(words[i:i+n])\n",
        "        next_word = words[i+n]\n",
        "        markov_chain[key].append(next_word)\n",
        "\n",
        "    return markov_chain\n",
        "\n",
        "# Step 4: Generate Text\n",
        "def generate_text(chain, n=1, length=50):\n",
        "    start = random.choice(list(chain.keys()))\n",
        "    result = list(start)\n",
        "\n",
        "    for _ in range(length):\n",
        "        state = tuple(result[-n:])\n",
        "        next_words = chain.get(state)\n",
        "\n",
        "        if not next_words:\n",
        "            break\n",
        "\n",
        "        next_word = random.choice(next_words)\n",
        "        result.append(next_word)\n",
        "\n",
        "    return ' '.join(result)\n",
        "\n",
        "# Step 5: Run the Markov Chain Generator\n",
        "n = 1  # 1 for unigram, 2 for bigram, etc.\n",
        "chain = build_markov_chain(text, n=n)\n",
        "generated_text = generate_text(chain, n=n, length=40)\n",
        "\n",
        "# Step 6: Show the Output\n",
        "print(\"🔹 Generated Text:\")\n",
        "print(generated_text)\n"
      ]
    }
  ]
}